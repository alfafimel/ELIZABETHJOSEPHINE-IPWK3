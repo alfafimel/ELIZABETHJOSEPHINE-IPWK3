# import the needed libraries
import pandas as pd
import numpy as np
import requests
