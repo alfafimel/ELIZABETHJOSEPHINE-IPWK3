# import the needed libraries
import pandas as pd
import numpy as np
import requests

# reading the files from the telecom company and creating dataframes
df1 = pd.read_csv('cells_geo.csv', delimiter = ';')
df2 = pd.read_csv('Telcom_dataset.csv')
df3 = pd.read_csv('Telcom_dataset2.csv')
df4 = pd.read_csv('Telcom_dataset3.csv')

