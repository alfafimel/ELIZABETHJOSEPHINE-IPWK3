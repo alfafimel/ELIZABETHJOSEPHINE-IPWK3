# import the needed libraries
import pandas as pd
import numpy as np
import requests

# reading the files from the telecom company and creating dataframes
df1 = pd.read_csv('cells_geo.csv', delimiter = ';')
df2 = pd.read_csv('Telcom_dataset.csv')
df3 = pd.read_csv('Telcom_dataset2.csv')
df4 = pd.read_csv('Telcom_dataset3.csv')

                          ##CDR DATASETS ANALYSIS

# joining the three CDR datasets,
telecomdata = pd.concat([df2, df3, df4])
# telecomdata to csv
telecomdata.to_csv("telecomdata.csv", index=False)

#reading the combined dataframe into panda
df5 = pd.read_csv('telecomdata.csv')
df5

    ##data cleaning
#checking for missing values
df5.isnull()

#summary of missing values
df5.isnull().sum() 

#drop missing values
df5_no_missing = df5.dropna()
df5_no_missing

# Drop rows where all cells in that row is NA
# Uncomment the line below after running previous lines
df5_cleaned = df5.dropna(how='all')
df5_cleaned

# Drop column if they only contain missing values
# Uncomment the line below after running previous lines
df5.dropna(axis=1, how='all')

# dropping duplicates in cells geo data
df5=df5.drop_duplicates(inplace=True)

# to return indexes of columns
df5.columns

# printing the data types in the data
print(df5.dtypes)

# to return the count of columns and rows in the data
df5.shape

# dropping unneeded columns
columns_to_delete = ['CELL_ON_SITE', 'DW_A_NUMBER_INT', 'DW_B_NUMBER_INT', 'COUNTRY_A', 'COUNTRY_B', 'CELL_ID', 'SITE_ID']
df5.drop(columns_to_delete, inplace=True, axis=1)


              ##CELLSGEO ANALYSIS

    ##data cleaning
#checking for missing values
df1.isnull()

#summary of missing values
df1.isnull().sum() 

#drop missing values
df1_no_missing = df1.dropna()
df1_no_missing

# Drop rows where all cells in that row is NA
# Uncomment the line below after running previous lines
df1_cleaned = df1.dropna(how='all')
df1_cleaned

# Drop column if they only contain missing values
# Uncomment the line below after running previous lines
df1.dropna(axis=1, how='all')

# dropping duplicates in cells geo data
df1=df1.drop_duplicates(inplace=True)

# to return indexes of columns
df1.columns

# printing the data types in the data
print(df1.dtypes)

# to return the count of columns and rows in the data
df1.shape

