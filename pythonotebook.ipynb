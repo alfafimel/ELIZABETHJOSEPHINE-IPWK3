# import the needed libraries
import pandas as pd
import numpy as np
import requests

# reading the files from the telecom company and creating dataframes
df1 = pd.read_csv('cells_geo.csv', delimiter = ';')
df2 = pd.read_csv('Telcom_dataset.csv')
df3 = pd.read_csv('Telcom_dataset2.csv')
df4 = pd.read_csv('Telcom_dataset3.csv')

                          ##CDR DATASETS ANALYSIS

# joining the three CDR datasets,
telecomdata = pd.concat([df2, df3, df4])
# telecomdata to csv
telecomdata.to_csv("telecomdata.csv", index=False)

#reading the combined dataframe into panda
df5 = pd.read_csv('telecomdata.csv')
df5

               ##combined analysis of the datasets both CDR and Cell geo

mtndata = pd.concat([df1, df5])
mtndata.to_csv("mtndata.csv", index=False)

df6 = pd.read_csv('mtndata.csv')
df6

    ##data cleaning
#checking for missing values
df6.isnull()

#summary of missing values
df6.isnull().sum() 

#drop missing values
df6_no_missing = df6.dropna()
df6_no_missing

# Drop rows where all cells in that row is NA
df6_cleaned = df6.dropna(how='all')
df6_cleaned

# Drop column if they only contain missing values
df6.dropna(axis=1, how='all')

# dropping duplicates in cells geo data
df6=df6.drop_duplicates(inplace=True)

# to return indexes of columns
df6.columns

# printing the data types in the data
print(df6.dtypes)

# to return the count of columns and rows in the data
df6.shape

  # Minimum value of billing price
df6['VALUE'].min()

# Maximum value of billing price
df6['VALUE'].max()

# Create a groupby variable that groups VILLES by VALUE
groupby_value = df6['villes'].groupby(df6['value'])
groupby_value

# Descriptive statistics by group
df6['product'].groupby(df6['value']).describe()

